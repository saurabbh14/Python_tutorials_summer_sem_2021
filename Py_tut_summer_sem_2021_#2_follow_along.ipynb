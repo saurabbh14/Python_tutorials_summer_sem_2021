{
  "nbformat": 4,
  "nbformat_minor": 0,
  "metadata": {
    "colab": {
      "name": "Py_tut_summer_sem-2021_#2_follow_along.ipynb",
      "provenance": [],
      "collapsed_sections": [],
      "toc_visible": true,
      "include_colab_link": true
    },
    "kernelspec": {
      "name": "python3",
      "display_name": "Python 3"
    }
  },
  "cells": [
    {
      "cell_type": "markdown",
      "metadata": {
        "id": "view-in-github",
        "colab_type": "text"
      },
      "source": [
        "<a href=\"https://colab.research.google.com/github/saurabbh14/Python_tutorials_summer_sem_2021/blob/main/Py_tut_summer_sem_2021_%232_follow_along.ipynb\" target=\"_parent\"><img src=\"https://colab.research.google.com/assets/colab-badge.svg\" alt=\"Open In Colab\"/></a>"
      ]
    },
    {
      "cell_type": "markdown",
      "metadata": {
        "id": "hdzdj_bAcQTb"
      },
      "source": [
        "# Scientific computing\n",
        "\n",
        "\n"
      ]
    },
    {
      "cell_type": "markdown",
      "metadata": {
        "id": "DTaO_jMJ_sYx"
      },
      "source": [
        "## Recap & homework discussion\n",
        "\n",
        "Let's go over the things you learnt so far.\n",
        "\n",
        "Here is a (not so) short list of all the concepts you got to know already:\n",
        "\n",
        "- Math operations in Python (`+, -, *, /, //, %`)\n",
        "- Basic data types in Python (`bool`, `float`, `int`, `str`)\n",
        "- Calling functions (`print()`, `help()`)\n",
        "- Lists (`[1, 2, 3, 4]`)\n",
        "- Control flow : If-else statements (asking questions, making decisions)\n",
        "- Loops (`for` and `while`)\n",
        "- Defining functions\n",
        "\n",
        "\n",
        "Did you encounter any problems, syntax errors or other issues in your home-based Python journey? \n",
        "\n",
        "**How was homework? Did you manage to use loops and then define a function around it?** \n",
        "\n"
      ]
    },
    {
      "cell_type": "code",
      "metadata": {
        "id": "aXMo5ObwDTir"
      },
      "source": [
        "# Did you encounter any problems/bugs/errors?\n"
      ],
      "execution_count": null,
      "outputs": []
    },
    {
      "cell_type": "markdown",
      "metadata": {
        "id": "9x3fiKT-4f6g"
      },
      "source": [
        "## Python Modules\n",
        "\n",
        "\n",
        "Today we'll look into very useful concept in the programming - \"Modules\"(or libraries). Module is the colloection of specific set of functions. We already have encountered these modules/libraries or at least heard about them before such as numpy, matplotlib, math, random etc.These are all commonly used python modules, created by staking together bunch of related functions. In that light, we can also creat out own modules, a set of functions, and call these functions again and again by \"importing\" module.\n",
        "\n",
        "Let's creat our own module. For creating a module, we need to creat a file preferably in the working directory. One can name the file anything, but the file must have `.py` extension.\n",
        "\n",
        "To creat a file in google colab, we are going to utilize `printf` command-line command. '!' intializes the command line enviroment."
      ]
    },
    {
      "cell_type": "code",
      "metadata": {
        "id": "k3hp9bhG57XV"
      },
      "source": [
        "# A small task before we get into modules\n",
        "# Define a function which returns sqaure of given number\n",
        "\n",
        "\n",
        "\n",
        "# First we creat a file containing python code: A module\n",
        "!printf 'def f(x):\\n return x**2' > /content/module.py\n",
        "\n",
        "#import the module\n",
        "\n",
        "import module\n",
        "print(module.f(3))\n",
        "\n",
        "import module as mod  #just renaming the module as per convinence\n",
        "print(mod.f(3))"
      ],
      "execution_count": null,
      "outputs": []
    },
    {
      "cell_type": "markdown",
      "metadata": {
        "id": "5LmcH-Y3UKW5"
      },
      "source": [
        "One can also specifically call a particular function(or variable) from a module by using `from ... import ...` syntaxt\n",
        "\n",
        "```python\n",
        "# Let's define few functions and variables and store them into a module named `module2.py`\n",
        "def a(x):\n",
        "  return type(x)\n",
        "\n",
        "b=2\n",
        "c=\"Hi\"\n",
        "d=True\n",
        "```"
      ]
    },
    {
      "cell_type": "markdown",
      "metadata": {
        "id": "KXErpwJCX-KA"
      },
      "source": [
        "Save above script in some file with extention `.py` and call this script varibles. `dir()` is a build-in function in python which shows the list of all the functions and variables containing in a module"
      ]
    },
    {
      "cell_type": "code",
      "metadata": {
        "id": "lnWyTZ5GW_kB"
      },
      "source": [
        "from module2 import a, c  \n",
        "var_type=module2.a(module2.c)\n",
        "print(var_type)\n",
        "\n",
        "dir(module2)"
      ],
      "execution_count": null,
      "outputs": []
    },
    {
      "cell_type": "markdown",
      "metadata": {
        "id": "5JobQgjwc49Y"
      },
      "source": [
        "## Science with Python & the `NumPy` library\n",
        "\n",
        "Now we have all the basics at hand to get going scientifically. The most prominent package in the scientific ecosystem in Python is called `numpy`. Numpy comes with its own, extremely powerful vector/array/list container type called `numpy.ndarray` (n-dimensional array). An array in computer programming is typically a data structure that has a set size and is homogeneous regarding its contents. This might seem like a disadvantage, however, it has some very specific advantages. \n",
        "\n",
        "These arrays are implemented to allow for *vectorised operations*, that means that one single operation (in code) is applied to all elements of the array at once. See the following example:\n",
        "**calculate the Morse potential for the hydrogen molecule** from the formula given in the exercise sheet.\n",
        "\n",
        "$$\n",
        "E=D(1-\\mathrm{e}^{-\\beta(r-r_{\\mathrm{eq}})})^2\\quad\\quad\\left\\{\n",
        "                                                   \\begin{array}{l}\n",
        "                                                     D=590,7~\\frac{\\mathrm{kJ}}{\\mathrm{mol}}\\\\\n",
        "                                                     r_{\\mathrm{eq}}=0,917~\\text{Å}\\\\\n",
        "                                                     \\beta=2,203~\\text{Å}^{-1}\n",
        "                                                   \\end{array}\n",
        "                                                 \\right.\n",
        "$$\n",
        "\n",
        "\n",
        "To define this function, you'll need `exp()` function from numpy\n"
      ]
    },
    {
      "cell_type": "code",
      "metadata": {
        "id": "mgyKTwP-gVg0"
      },
      "source": [
        "import numpy as np\n",
        "\n",
        "# Our trusty old Morse potential function.\n",
        "# using the numpy version of `exp()`\n",
        "def morse(r):\n",
        "\n",
        "\n",
        "  return e\n",
        "\n",
        "\n",
        "# Generate a 1000-component index in a set interval of [0.5, 5]\n",
        "r_array = np.linspace(0.5, 5.0, num=1001) \n",
        "morse_array = morse(r_array)\n",
        "print(r_array)\n",
        "print(morse_array)\n",
        "\n",
        "# You can index and slice them just like lists:\n",
        "print(\"First element: \", morse_array[0:10])\n",
        "print(\"Last element: \", morse_array[-1:])\n",
        "\n",
        "\n",
        "# Like lists, ndarrays can be used in plotting\n",
        "# plt.plot(r_array, morse_array)\n",
        "\n",
        "\n",
        "# You can even convert ndarrays to lists and vice versa\n",
        "m_list = list(morse_array)\n",
        "print(\"First element (list): \", m_list[0])\n",
        "print(\"Last element (list): \", m_list[-1])\n",
        "\n",
        "\n",
        "# The np.asarray function converts lists to ndarrays\n",
        "new_m_array = np.asarray(m_list)\n",
        "\n",
        "\n",
        "print(np.all(new_m_array == morse_array)) # See whether all the elements are the same"
      ],
      "execution_count": null,
      "outputs": []
    },
    {
      "cell_type": "markdown",
      "metadata": {
        "id": "y5gTxNwxkFUu"
      },
      "source": [
        "The numpy library is extremely mature in that the array container supports a ton of operations and the numpy library includes a variety of specialised functions to work on arrays and matrices.\n",
        "\n",
        "Take for example the matrix multiplication. With Numpy, you will just write:"
      ]
    },
    {
      "cell_type": "code",
      "metadata": {
        "id": "1j-hL2GFWuVf",
        "colab": {
          "base_uri": "https://localhost:8080/"
        },
        "outputId": "d484ee34-fa56-47e1-df58-63a045d3773e"
      },
      "source": [
        "np.arange(18)"
      ],
      "execution_count": null,
      "outputs": [
        {
          "output_type": "execute_result",
          "data": {
            "text/plain": [
              "array([ 0,  1,  2,  3,  4,  5,  6,  7,  8,  9, 10, 11, 12, 13, 14, 15, 16,\n",
              "       17])"
            ]
          },
          "metadata": {
            "tags": []
          },
          "execution_count": 55
        }
      ]
    },
    {
      "cell_type": "code",
      "metadata": {
        "id": "h0Hl_1T6kySQ"
      },
      "source": [
        "# Build two matrices. The .reshape() method, well, reshapes the array.\n",
        "matrix1 = np.arange(18).reshape([3,6])\n",
        "matrix2 = np.arange(12).reshape([6,2])\n",
        "print(matrix1)\n",
        "print(matrix2)\n",
        "\n",
        "# You can use the `@` operator ...\n",
        "res = matrix1 @ matrix2\n",
        "print(res)\n",
        "\n",
        "# ... or use the function `np.matmul()`\n",
        "res = np.matmul(matrix1, matrix2)\n",
        "print(res)\n"
      ],
      "execution_count": null,
      "outputs": []
    },
    {
      "cell_type": "markdown",
      "metadata": {
        "id": "zNC9A1dATSO-"
      },
      "source": [
        "And this is just the very tip of the iceberg. From now on, we will mainly live in the Numpy ecosystem to build our scientific calculations."
      ]
    },
    {
      "cell_type": "markdown",
      "metadata": {
        "id": "obBpIlbOSo5o"
      },
      "source": [
        "## Matplotlib\n",
        "\n",
        "Matplotlib is a library used for plotting with Python. It is quite versatile and offers a lot of functionality. An extensive documentation can be found on the official website https://matplotlib.org/.\n",
        "We will consider only some fundamental options."
      ]
    },
    {
      "cell_type": "code",
      "metadata": {
        "colab": {
          "base_uri": "https://localhost:8080/",
          "height": 282
        },
        "id": "_H3CWUeaSszh",
        "outputId": "47b49acb-829c-4f8e-d791-795b382d077b"
      },
      "source": [
        "# Plotting with Python lists\n",
        "import matplotlib.pyplot as plt\n",
        "import math as m\n",
        "\n",
        "x = [0.0, 0.5, 1.0, 1.5, 2.0, 2.5, 3.0]   # here we define a list\n",
        "y = []                                    # now we define a list that contains exponentiated elemenst of the previous list\n",
        "for i in x:\n",
        "    y.append(m.exp(i))\n",
        "\n",
        "plt.plot(x, y)                       # plotting the exponential function\n",
        "plt.show"
      ],
      "execution_count": 8,
      "outputs": [
        {
          "output_type": "execute_result",
          "data": {
            "text/plain": [
              "<function matplotlib.pyplot.show>"
            ]
          },
          "metadata": {
            "tags": []
          },
          "execution_count": 8
        },
        {
          "output_type": "display_data",
          "data": {
            "image/png": "[encoded data removed]",
            "text/plain": [
              "<Figure size 432x288 with 1 Axes>"
            ]
          },
          "metadata": {
            "tags": [],
            "needs_background": "light"
          }
        }
      ]
    },
    {
      "cell_type": "code",
      "metadata": {
        "id": "VsVpgKpgTXZ7"
      },
      "source": [
        "# same plot using numpy\n",
        "\n",
        "x = np.linspace(0.0, 3.0, 20)         # with numpy we can compactly define x and y values we want to plot \n",
        "y = np.exp(x)\n",
        "\n",
        "plt.plot(x, y)\n",
        "plt.show"
      ],
      "execution_count": null,
      "outputs": []
    },
    {
      "cell_type": "markdown",
      "metadata": {
        "id": "a6zOFfM0iEPE"
      },
      "source": [
        "A small task!"
      ]
    },
    {
      "cell_type": "code",
      "metadata": {
        "id": "yUQuIZXciChx"
      },
      "source": [
        "# Plot previously calculated morse potential\n",
        "# Hint: follow the script from above cell and use previously defined\n",
        "# r_array and morse_array :)\n",
        "\n",
        "\n",
        "\n"
      ],
      "execution_count": 24,
      "outputs": []
    },
    {
      "cell_type": "markdown",
      "metadata": {
        "id": "qCOFyJvIiwkk"
      },
      "source": [
        "**More plot specifications**"
      ]
    },
    {
      "cell_type": "code",
      "metadata": {
        "colab": {
          "base_uri": "https://localhost:8080/",
          "height": 440
        },
        "id": "-gMWEnx1T6XK",
        "outputId": "cf0878f2-c7c9-4d23-cd16-d0e266a585d1"
      },
      "source": [
        "# More refined example\n",
        "\n",
        "x = np.linspace(0.0, 10.0, 100)\n",
        "y = np.sin(x)\n",
        "y1 = np.cos(x)\n",
        "\n",
        "plt.figure(figsize=(10.0, 6.5))\n",
        "plt.title(\"Plot\", fontsize=18)\n",
        "plt.xlabel(\"x\", fontsize=15)\n",
        "plt.grid()\n",
        "plt.ylim(-1.1, 1.1)\n",
        "plt.xlim(0.0, 10.0)\n",
        "plt.plot(x, y, \"b.\", label=\"sin(x)\")\n",
        "plt.plot(x, y1, \"g*\", label=\"cos(x)\")\n",
        "plt.legend()\n",
        "plt.show()"
      ],
      "execution_count": null,
      "outputs": [
        {
          "output_type": "display_data",
          "data": {
            "image/png": "[encoded data removed]",
            "text/plain": [
              "<Figure size 720x468 with 1 Axes>"
            ]
          },
          "metadata": {
            "tags": [],
            "needs_background": "light"
          }
        }
      ]
    },
    {
      "cell_type": "code",
      "metadata": {
        "colab": {
          "base_uri": "https://localhost:8080/",
          "height": 436
        },
        "id": "XO2kx9w5VNqj",
        "outputId": "b133c081-ad34-4bb9-e9a0-033cc82ead7b"
      },
      "source": [
        "# we can also plot the Morse potential introduced previously\n",
        "\n",
        "plt.figure(figsize=(8.0, 6.5))\n",
        "plt.title(\"Morse potential\", fontsize=15)\n",
        "plt.xlabel(\"r\", fontsize=13)\n",
        "plt.xlim(0.0, 5.5)\n",
        "plt.plot(r_array, morse_array, \"-bo\")\n",
        "plt.show()"
      ],
      "execution_count": 23,
      "outputs": [
        {
          "output_type": "display_data",
          "data": {
            "image/png": "[encoded data removed]",
            "text/plain": [
              "<Figure size 576x468 with 1 Axes>"
            ]
          },
          "metadata": {
            "tags": [],
            "needs_background": "light"
          }
        }
      ]
    },
    {
      "cell_type": "markdown",
      "metadata": {
        "id": "rEju7mUH_qPO"
      },
      "source": [
        "## Towards molecular dynamics\n",
        "\n",
        "Having started on our journey into the scientific world using `numpy`, we will now get a bit more practical! Let's implement a small program to calculate the time evolution of an classical harmonic oscillator using Newtonian dynamics.\n",
        "\n",
        "\n"
      ]
    },
    {
      "cell_type": "markdown",
      "metadata": {
        "id": "JThLhYpARwD9"
      },
      "source": [
        "### Newton's equation of motion\n",
        "\n",
        "Differential equation that governs the motion of a point particle with constant mass $m$ under the influence of a net force $\\mathbf{F}$ :\n",
        "\n",
        "\\begin{align}\n",
        "\\mathbf{F} &= \\dfrac{\\mathrm{d}\\mathbf{p}}{\\mathrm{d}t} = \\dfrac{\\mathrm{d}(m\\mathbf{v})}{\\mathrm{d}t} \\\\\n",
        "&= m \\dfrac{\\mathrm{d}\\mathbf{v}}{\\mathrm{d}t} \\\\\n",
        "&= m \\mathbf{a} \\\\\n",
        "\\end{align}\n",
        "\n",
        "Position $\\mathbf{r}$, velocity $\\mathbf{v}$ and acceleration $\\mathbf{a}$ are related through:\n",
        "\n",
        "$$\n",
        "\\mathbf{v} = \\dfrac{\\mathrm{d}\\mathbf{r}}{\\mathrm{d}t}, \\quad \\mathbf{a} = \\dfrac{\\mathrm{d}\\mathbf{v}}{\\mathrm{d}t}  = \\dfrac{\\mathrm{d}^2 \\mathbf{r}}{\\mathrm{d}t^2}\n",
        "$$\n",
        "\n",
        "The general solution of the equation of motion in the case of a constant net force (hence constant acceleration) is given by:\n",
        "\n",
        "\\begin{align}\n",
        "\\mathbf{r} &= \\mathbf{r}_0 + \\mathbf{v}_0 t + \\frac{1}{2}\\mathbf{a}t^2\\\\\n",
        "\\mathbf{v} &= \\mathbf{v}_0 +\\mathbf{a}t  \\\\\n",
        "\\mathbf{r} &= \\mathbf{r}_0 + \\frac{1}{2}(\\mathbf{v} + \\mathbf{v}_0)t \\\\\n",
        "\\end{align}\n",
        "\n",
        "In the case of a conservative force, there exists potential energy function $E_{pot}$ such that\n",
        "$$\n",
        "F(\\mathbf{r}) = - \\nabla E_{pot}\n",
        "$$\n"
      ]
    },
    {
      "cell_type": "markdown",
      "metadata": {
        "id": "kq4vc6R_Rz47"
      },
      "source": [
        "### Velocity Verlet algorithm\n",
        "\n",
        "In order to numerically solve the equations of motion for an unknown system, many algorithms have been developed over the last decades. One particularly easy and still comparably accurate approach is the Velocity Verlet algorithm. In numerical approaches we usually solve equations iteratively, advancing quantities by small steps. Here, we take small time steps $\\Delta t$ and advance quantities at each time step. \n",
        "\n",
        "The two fundamental equations are the following: \n",
        "\n",
        "\\begin{align}\n",
        "\\mathbf{r}(t+\\Delta t) &= \\mathbf{r}(t) + \\mathbf{v}(t)\\Delta t + \\frac{1}{2}\\mathbf{a}(t) \\Delta t^2 \\\\\n",
        "\\\\\n",
        "\\mathbf{v}(t+\\Delta t) &= \\mathbf{v}(t) + \\dfrac{\\mathbf{a}(t) + \\mathbf{a}(t + \\Delta t)}{2}\\Delta t \\\\\n",
        "%\n",
        "\\end{align}\n",
        "\n"
      ]
    },
    {
      "cell_type": "markdown",
      "metadata": {
        "id": "Pp-pHjYFR1jg"
      },
      "source": [
        "#### Algorithmic steps\n",
        "\n",
        "1. Start from initial state\n",
        "\n",
        "2. Calculate position at next time step:\n",
        "$$\n",
        "\\mathbf{r}(t+\\Delta t) = \\mathbf{r}(t) + \\mathbf{v}(t)\\Delta t + \\frac{1}{2}\\mathbf{a}(t) \\Delta t^2\n",
        "$$\n",
        "\n",
        "3. Calculate intermediate velocity\n",
        "$$\n",
        "\\mathbf{v}(t+\\dfrac{1}{2}\\Delta t) = \\mathbf{v}(t) + \\dfrac{1}{2}\\mathbf{a}(t)\\Delta t\n",
        "$$\n",
        "\n",
        "4. Compute acceleration at next time step $\\mathbf{a}(t+\\Delta t)$ using the position $\\mathbf{r}(t+\\Delta t)$ ( from force/potential energy )\n",
        "\n",
        "5. Calculate velocity at next time step \n",
        "$$\n",
        "\\mathbf{v}(t+\\Delta t) = \\mathbf{v}(t+\\dfrac{1}{2}\\Delta t) + \\dfrac{1}{2}\\mathbf{a}(t+\\Delta t) \\Delta t\n",
        "$$\n",
        "\n",
        "6. Go back to step 2 and repeat the process."
      ]
    },
    {
      "cell_type": "markdown",
      "metadata": {
        "id": "E7LQOgXCl8w6"
      },
      "source": [
        "Now let's get all this into code form by implementing the Velocity Verlet algorithm in a single dimension. Therefore, $\\mathbf{r} \\to r $. We start with a harmonic oscillator with the potential energy $E_{pot}(r) = \\frac{1}{2} \\mathrm{k} r^2$. \n",
        " $$F(r)=-\\frac{dE_{pot}}{dr}=-\\frac{d}{dr}\\frac{1}{2}\\mathrm{k} r^{2}=-\\frac{1}{2}\\mathrm{k} \\ 2r = -\\mathrm{k} r$$"
      ]
    },
    {
      "cell_type": "code",
      "metadata": {
        "id": "ysQ0yLc4clRJ"
      },
      "source": [
        "#Visualize the potential energy \n",
        "import matplotlib.pyplot as plt\n",
        "import numpy as np\n",
        "\n",
        "# define the potential energy curve\n",
        "def E_pot(r, k):\n",
        "  return \n",
        "\n",
        "# r range from -10 to 10\n",
        "r_array=np.linspace(-10, 10, num=10000)\n",
        "\n",
        "# plot the Potential Energy curve\n",
        "\n"
      ],
      "execution_count": null,
      "outputs": []
    },
    {
      "cell_type": "markdown",
      "metadata": {
        "id": "TOt16lKHr6P2"
      },
      "source": [
        "**Task**: Build the velocity Verlet algorithm based on the template code you find below:"
      ]
    },
    {
      "cell_type": "code",
      "metadata": {
        "id": "oOc6nnoHcBsv"
      },
      "source": [
        "import numpy as np\n",
        "import matplotlib.pyplot as plt\n",
        "\n",
        "# Model system (a = F/m) \n",
        "def a(r, m=2.0, k=0.2):\n",
        "    return  - k * r / m\n",
        "\n",
        "# Define the time parameters & a time grid for plotting\n",
        "dt = 0.01\n",
        "n_dt = 10000\n",
        "t = np.arange(n_dt) * dt\n",
        "\n",
        "# Define the start values of position r & velocity v as well as storage arrays\n",
        "r = 2.0\n",
        "r_store = np.zeros(n_dt)\n",
        "\n",
        "v = 0.0\n",
        "v_store = np.zeros(n_dt)\n",
        "\n",
        "\n",
        "# Main integration loop\n",
        "for i in range(n_dt):\n",
        "    r_fdt = r + v * dt + 0.5 * a(r) * dt**2  # Step 2\n",
        "    v_hdt = v + 0.5 * a(r) * dt              # Step 3\n",
        "    v_fdt = v_hdt + 0.5 * a(r_fdt) * dt      # Step 4: a(r_fdt) & Step 5 \n",
        "\n",
        "    # Update variables\n",
        "    r = r_fdt\n",
        "    v = v_fdt\n",
        "\n",
        "    # Store r & v in the storage arrays\n",
        "    r_store[i] = r\n",
        "    v_store[i] = v\n",
        "\n",
        "\n",
        "# Plot the values\n",
        "plt.figure(figsize=(16,9))\n",
        "plt.xlabel(\"t\", fontsize=18)\n",
        "plt.plot(t, r_store, color=\"#00aa00\", label=\"r(t)\")\n",
        "plt.plot(t, v_store, color=\"#aa0000\", label=\"v(t)\" )\n",
        "plt.legend(loc='upper right', fontsize='x-large')\n",
        "plt.show()"
      ],
      "execution_count": null,
      "outputs": []
    },
    {
      "cell_type": "markdown",
      "metadata": {
        "id": "3g2khXBKkB1E"
      },
      "source": [
        "**Home work**\n",
        "\n",
        "In above example we have calculated the motion of a particle in parabolic potential surface(simple pendulum). Adapt above algorithm to calculate the motion of the particle on morse potential. \n",
        "\n",
        "**Hint:** You only need to find the force term  $F(r)$ i.e., $$F(r)=-\\frac{dE_{morse}}{dr}$$ and everything follows the same"
      ]
    }
  ]
}
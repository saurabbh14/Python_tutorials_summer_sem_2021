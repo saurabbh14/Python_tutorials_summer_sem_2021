{
  "nbformat": 4,
  "nbformat_minor": 0,
  "metadata": {
    "colab": {
      "name": "Py_tut_summer_sem-2021_#1_follow_along.ipynb",
      "provenance": [],
      "collapsed_sections": [],
      "toc_visible": true,
      "include_colab_link": true
    },
    "kernelspec": {
      "name": "python3",
      "display_name": "Python 3"
    },
    "language_info": {
      "name": "python"
    }
  },
  "cells": [
    {
      "cell_type": "markdown",
      "metadata": {
        "id": "view-in-github",
        "colab_type": "text"
      },
      "source": [
        "<a href=\"https://colab.research.google.com/github/saurabbh14/Python_tutorials_summer_sem_2021/blob/main/Py_tut_summer_sem_2021__%231_follow_along.ipynb\" target=\"_parent\"><img src=\"https://colab.research.google.com/assets/colab-badge.svg\" alt=\"Open In Colab\"/></a>"
      ]
    },
    {
      "cell_type": "markdown",
      "metadata": {
        "id": "L67im2v_HwaN"
      },
      "source": [
        "# A small introduction to Python programming\n",
        "\n",
        "## First of all, what is programming about?\n",
        "\n",
        "We live in the digital age. Many everyday things run on computers and devices that are machines built to do calculations on bits (a discrete value of either 0 or 1, using [Boolean algebra](https://en.wikipedia.org/wiki/Boolean_algebra) as its basis). from a calculator to the fastest supercomputers on earth, the principle the exact same thing.\n",
        "\n",
        "Modern computers and the processing units on it (the parts that actually do the calculations, e. g. a central processing unit (CPU) in a personal computer) operates with a small set of instructions on how to work with bits and bytes (arrays of bits). So, the computer needs instructions in form of these commands. This so-called machine code is typically not human-readable. This is where programming languages come into play. \n",
        "\n",
        "We write more abstract (higher-level) commands and feed this information into specialised translators. These translators are able to tell the computer what we actually meant.\n",
        "\n",
        "The first programming language to be publicly receives was called Fortran (short for formula translation), built to allow scientists to easily write programs for the machines at that time. Since then, a ton of development has been made for new languages.\n",
        "\n",
        "Generally, there are two types of programming languages:\n",
        "- Compiled languages (such as Fortran, C, C++, Haskell): Here, a compiler program is required to translate the code to machine-readable information. The compiler generates a file that then can be executed. After each change in the code the compiler has to be re-run and the executable updated.\n",
        "\n",
        "- Interpreted languages (such as Python, Matlab, JavaScript): Here, instead of having a compiler generating an executable, an interpreter is used which dynamically (in the moment of reading the code) generates the machine-code instructions. Upon changing the code, the interpreter is restarted and the new program is run directly. \n",
        "\n",
        "For the practical course, we use the interpreted language Python, one of the most commonly used programming languages today. So let's get started!"
      ]
    },
    {
      "cell_type": "code",
      "metadata": {
        "id": "1nOFgsk7s4vM",
        "colab": {
          "base_uri": "https://localhost:8080/"
        },
        "outputId": "dcaf80d1-f4b7-4b60-b6d9-afdacc869589"
      },
      "source": [
        "#What do you already know about programming(python)?\n",
        "#Please use this space to get started with whatever you already know.\n",
        "#Or write every ones favorite \"HELLO WORLD\" program ;)\n",
        "print(\"Hello world ^^\")  \n",
        "\n",
        "\n",
        "#Also try some arithmetic +.-.*,/,**,%,// operators \n"
      ],
      "execution_count": null,
      "outputs": [
        {
          "output_type": "stream",
          "text": [
            "Hello world ^^\n"
          ],
          "name": "stdout"
        }
      ]
    },
    {
      "cell_type": "markdown",
      "metadata": {
        "id": "Njgd--szVdWJ"
      },
      "source": [
        "#Basic Python Syntax (Recap)\n",
        "\n",
        "Let's recap (or learn anew) how a basic python script is written. Like all languages python has way of writing, one can compare it to the grammar in \"ordinary\" languages. Python has some sets of rules which one has to follow while writing the script. Some of the important ones are metioned below:\n",
        "   \n"
      ]
    },
    {
      "cell_type": "markdown",
      "metadata": {
        "id": "hRvacpIB0wPL"
      },
      "source": [
        "##Indentation\n",
        "\n",
        "Indentation refers to the spaces at the beginning of a code line. Where in other programming languages the indentation in code is for readability only, the indentation in Python is very important.Python uses indentation to indicate a block of code. \n",
        "**Note:** The number of spaces is up to you as a programmer, but it has to be at least one. Also in single block number of spaces should be the same \n",
        "\n",
        "\n",
        "\n"
      ]
    },
    {
      "cell_type": "code",
      "metadata": {
        "colab": {
          "base_uri": "https://localhost:8080/"
        },
        "id": "X97G943Tr8VS",
        "outputId": "e3b854f0-2ee9-4e48-b3cd-9771b71014c4"
      },
      "source": [
        "#Example: Indentation\n",
        "\n",
        "if \"True\" == \"True\":                 # block begins\n",
        " print(\"The truth has been told\")    \n",
        "# The block ends when indentetion is not used in the next statement of the scipt\n",
        "# comments are exceptions\n",
        " print(\"Hehe\")\n",
        "\n",
        "if \"True\" == \"True\":\n",
        "        print(\"The truth has been told\") # The number of spaces is up to you as a programmer, but it has to be at least one. \n",
        "\n",
        "if \"True\" == \"True\":\n",
        " print(\"The truth has been told\")\n",
        " print(\"You can not handle the truth ;)\") # In the single block number of spaces should be the same\n"
      ],
      "execution_count": null,
      "outputs": [
        {
          "output_type": "stream",
          "text": [
            "The truth has been told\n",
            "Hehe\n",
            "The truth has been told\n",
            "The truth has been told\n",
            "You can not handle the truth ;)\n"
          ],
          "name": "stdout"
        }
      ]
    },
    {
      "cell_type": "markdown",
      "metadata": {
        "id": "nkSzj3pxw0Kr"
      },
      "source": [
        "## Python variables\n",
        "\n",
        "Variables are containers for storing data values. Python has no command for declaring a variable. A variable is created the moment you first assign a value to it.(easy-peasy)"
      ]
    },
    {
      "cell_type": "code",
      "metadata": {
        "id": "ggvOlAIOyqJ9"
      },
      "source": [
        "#Example: variable\n",
        "x=1\n",
        "y=\"Hi\"\n",
        "\n",
        "# A small question: Which python function we can refer which can show us the values \n",
        "# assigned to the variables?"
      ],
      "execution_count": null,
      "outputs": []
    },
    {
      "cell_type": "markdown",
      "metadata": {
        "id": "-TS6aAqzycNv"
      },
      "source": [
        "### Note on naming things in Python\n",
        "\n",
        "Typically, you want to follow a set of handy guidelines to make your code more readable for others: \n",
        "1. Variable & function names may allow any alphanumeric (a-z, A-Z, 0-9) and underscore `_` characters. Numbers however are not allowed to be the first characters. (`2hello = \"Hi\"` is forbidden, write `hello2 = \"Hi\"` instead)\n",
        "2. Variable & function names are all lowercase, multiple words are chained with `_` characters. Example: Do not write `Helloworld = \"Hello\"`, but `hello_world = \"Hello\"` \n"
      ]
    },
    {
      "cell_type": "markdown",
      "metadata": {
        "id": "7YCVuqLfATYc"
      },
      "source": [
        "## Data types\n",
        "\n",
        "The most commonly used data types are:\n",
        "\n",
        "- The `bool` type: A boolean. Either `True` or `False` (or 0 & 1)\n",
        "- The `int` type: Integral numbers, such as 1, 5, 1000.\n",
        "- The `float` type: A rational number, such as 1.0, 2.8, 3.14152\n",
        "- The `string` type: A collection of printable and non-printable characters, has to be surrounded with `\"`, such as `\"Hello World\"`, `\"I <3 Python\"`, `\"µłþøðſ\"`. \n",
        "\n",
        "All the data types can be stored in variables, just like we did at the beginning of the course. In case you are confused by what this value is you have at a specific moment, feel free to use the type() function on the value or variable."
      ]
    },
    {
      "cell_type": "code",
      "metadata": {
        "colab": {
          "base_uri": "https://localhost:8080/"
        },
        "id": "pIiu6FwfAJl8",
        "outputId": "98d2f1e8-0e98-4262-8c54-454bda56688d"
      },
      "source": [
        "# Example: Data types\n",
        "\n",
        "a=False\n",
        "b=127\n",
        "c=127.0\n",
        "d=\"False\"\n",
        "\n",
        "print(a, type(a))\n",
        "print(b, type(b))\n",
        "print(c, type(c))\n",
        "print(d, type(d))\n",
        "\n",
        "#Experiment on your own"
      ],
      "execution_count": null,
      "outputs": [
        {
          "output_type": "stream",
          "text": [
            "False <class 'bool'>\n",
            "127 <class 'int'>\n",
            "127.0 <class 'float'>\n",
            "False <class 'str'>\n"
          ],
          "name": "stdout"
        }
      ]
    },
    {
      "cell_type": "markdown",
      "metadata": {
        "id": "0Kd-d4DvHypC"
      },
      "source": [
        "## Python bult-in functions\n",
        "\n",
        "There some function which are built-in into a python distrubution which come in very handy while writing a easy script. You already have used `print()`, `type()` functions. These are small python scripts embedded in the distribution which make programmer's life easier. You'll encounter more of these functions as the course progresses but if you are inerested you can check out these functions here : https://docs.python.org/3/library/functions.html \n",
        "\n",
        "\n",
        "**Check what do `help()` function do?**\n",
        "\n",
        "\n"
      ]
    },
    {
      "cell_type": "code",
      "metadata": {
        "id": "X9kMX5guA1xk"
      },
      "source": [
        "#Example Built-in functions\n",
        "\n",
        "help()"
      ],
      "execution_count": null,
      "outputs": []
    },
    {
      "cell_type": "markdown",
      "metadata": {
        "id": "XLJ0k-yJTTCs"
      },
      "source": [
        "## Lists\n",
        "\n",
        "Lists are a very handy construct in Python and we will meet them virtually everywhere.\n",
        "\n",
        "A list is a container that can hold any of the data types we introduced earlier and has to be surrounded by brackets `[` and `]`. In Python, lists are **heterogeneous containers** in that a single list can contain multiple different data types. \n",
        "\n",
        "```python\n",
        "# A list of int's\n",
        "# Index left: | 0 | 1 | 2 | 3 |\n",
        "list_int    = [ 1,  2,  3,  4 ] \n",
        "# Index right:| -4| -3| -2| -1]\n",
        "\n",
        "# A list of float's\n",
        "list_flt = [1.0, 2.0, 3.0, 4.0] \n",
        "\n",
        "# A mixed list\n",
        "list_mix = [1.0, \"Hello\", 3, True] \n",
        "```\n",
        "\n",
        "Lists are super handy in Python. With a list come many functions that can be used on lists, such as the `len()` function that tells us the number of items in the list. We will get to know a number of different functionalities during the course.\n",
        "\n"
      ]
    },
    {
      "cell_type": "code",
      "metadata": {
        "id": "gJsDjiMtbZYd",
        "colab": {
          "base_uri": "https://localhost:8080/"
        },
        "outputId": "60f8526f-b75b-4e1f-e505-f06e03459a21"
      },
      "source": [
        "# Example\n",
        "# Create the list\n",
        "l = [1, 2, 3, 4, 5, 6]\n",
        "\n",
        "# Index the number `3` from the list. The index is `2`\n",
        "number_3 = l[4]\n",
        "print(number_3)\n",
        "\n",
        "# Feel free to try on your own!"
      ],
      "execution_count": null,
      "outputs": [
        {
          "output_type": "stream",
          "text": [
            "5\n"
          ],
          "name": "stdout"
        }
      ]
    },
    {
      "cell_type": "markdown",
      "metadata": {
        "id": "PHax4nHIc-lk"
      },
      "source": [
        "Besides Lists there are few more collection types available in python\n",
        "\n",
        "* **List** : a collection which is ordered and changeable. Allows duplicate members.\n",
        "* **Tuple** : a collection which is ordered and unchangeable. Allows duplicate members.\n",
        "* **Set** : a collection which is unordered and unindexed. No duplicate members.\n",
        "* **Dictionary** : a collection which is ordered* and changeable. No duplicate members."
      ]
    },
    {
      "cell_type": "markdown",
      "metadata": {
        "id": "F1RS13r7nfee"
      },
      "source": [
        "# Control flow\n",
        "\n",
        "Control flow considers the order in which individual instructions of a program are executed. In Python, we regulate the control flow with conditional statements (if statements), loops, and function calls.\n"
      ]
    },
    {
      "cell_type": "markdown",
      "metadata": {
        "id": "NNMQrof8ovH5"
      },
      "source": [
        "## Conditional expressions\n",
        "\n",
        "When \"controlling the flow\" of a program we often have to make the content of our variable dependent on some condition. To achieve that, we use conditional expressions which evaluate to Boolean, either True or False."
      ]
    },
    {
      "cell_type": "code",
      "metadata": {
        "colab": {
          "base_uri": "https://localhost:8080/"
        },
        "id": "1tQruSSooLgu",
        "outputId": "a17d2706-3439-4c34-9572-479a716ab2b6"
      },
      "source": [
        "# Example: arithmetic comparison of numerical types\n",
        "\n",
        "val_1 = 4.1 > 0.0 # a > b --> True if a strictly greater than b \n",
        "\n",
        "val_2 = -1.0 < 3.0  # a < b --> True if a strictly less than b \n",
        "\n",
        "x = y = 'value'\n",
        "val_3 = x == y  # a == b --> True if a and b are equal\n",
        "\n",
        "val_4 = x != y # a != b --> True if a and b are not equal\n",
        "\n",
        "# We can also use greater than or equal (>=), and less than or equal (<=)\n",
        "\n",
        "print(val_1, val_2, val_3, val_4)"
      ],
      "execution_count": null,
      "outputs": [
        {
          "output_type": "stream",
          "text": [
            "True True True False\n"
          ],
          "name": "stdout"
        }
      ]
    },
    {
      "cell_type": "code",
      "metadata": {
        "id": "xh590Y8moVml",
        "colab": {
          "base_uri": "https://localhost:8080/"
        },
        "outputId": "5840256c-321d-4dfc-d0d2-89148f4341c3"
      },
      "source": [
        "# Example: the in operator\n",
        "\n",
        "string = 'This is a string.'\n",
        "x = 'a' in string # a in b --> True if a is part of sequence(string, list, tuple,...) y\n",
        "\n",
        "print(x)"
      ],
      "execution_count": null,
      "outputs": [
        {
          "output_type": "stream",
          "text": [
            "True\n"
          ],
          "name": "stdout"
        }
      ]
    },
    {
      "cell_type": "markdown",
      "metadata": {
        "id": "YNZAJUjdof6O"
      },
      "source": [
        "## Boolean operators\n",
        "\n",
        "Using Boolean operators, we can combine conditional expressions.\n",
        "\n",
        "| Operator | Description |\n",
        "| :- | :- |\n",
        "| a and b  | True if both a and b are True, otherwise False |\n",
        "| a or b   | True if either a or b are True, or if both a and b are True,<br> False if both a and b are False |\n",
        "| not a    |  negates a, True if a is False, False if a is True |"
      ]
    },
    {
      "cell_type": "code",
      "metadata": {
        "id": "AFNeImLApLOO",
        "colab": {
          "base_uri": "https://localhost:8080/"
        },
        "outputId": "0ead3eba-a1a9-4efc-9976-c1292772e90d"
      },
      "source": [
        "# Example\n",
        "\n",
        "x = (1.0 < 2.0) and (8.0 % 2 == 0.0)\n",
        "print(x)"
      ],
      "execution_count": null,
      "outputs": [
        {
          "output_type": "stream",
          "text": [
            "True\n"
          ],
          "name": "stdout"
        }
      ]
    },
    {
      "cell_type": "markdown",
      "metadata": {
        "id": "25mga43apM-n"
      },
      "source": [
        "## If statement\n",
        "\n",
        "When we want our program to execute some statements only when certain conditions hold, or to execute statements depending on several mutually exclusive conditions, we use the if statement. \n",
        "General syntax of the if statement is as follows.\n",
        "```python\n",
        "if condition_1:\n",
        "    statement_1\n",
        "elif condition_2:\n",
        "    statement_2\n",
        "elif condition_3:\n",
        "    statement_3\n",
        "...\n",
        "else:\n",
        "    statement\n",
        "```\n",
        "*Note the indentation!*"
      ]
    },
    {
      "cell_type": "code",
      "metadata": {
        "colab": {
          "base_uri": "https://localhost:8080/"
        },
        "id": "qGe01BJcpZgr",
        "outputId": "e68278a8-1518-4d57-e3ef-55c255cc9d28"
      },
      "source": [
        "# Example\n",
        "\n",
        "a = 11.0\n",
        "b = 2.0\n",
        "if (a > b):\n",
        "    c = a - b\n",
        "else:\n",
        "    c = b - a\n",
        "    \n",
        "print(c)"
      ],
      "execution_count": null,
      "outputs": [
        {
          "output_type": "stream",
          "text": [
            "9.0\n"
          ],
          "name": "stdout"
        }
      ]
    },
    {
      "cell_type": "markdown",
      "metadata": {
        "id": "IWIBAgkBYQE8"
      },
      "source": [
        "- Task: Take a positive number a. If 3 divides a, print out the result of dividing a by 3, otherwise print out the remainder of a divided by 3."
      ]
    },
    {
      "cell_type": "code",
      "metadata": {
        "colab": {
          "base_uri": "https://localhost:8080/"
        },
        "id": "iWHpe4lJp31K",
        "outputId": "2d88c96a-1bbf-48c6-9980-3187ca1de511"
      },
      "source": [
        "# Solution\n",
        "\n",
        "a =\n",
        "if ():\n",
        "    print()\n",
        "else:\n",
        "    print()\n",
        "    "
      ],
      "execution_count": null,
      "outputs": [
        {
          "output_type": "stream",
          "text": [
            "4.0\n"
          ],
          "name": "stdout"
        }
      ]
    },
    {
      "cell_type": "markdown",
      "metadata": {
        "id": "9C-gvJn6YeNz"
      },
      "source": [
        "## Loops\n",
        "\n",
        "Loops represent structures that repeat a sequence of instructions until a specific condition is met. In Python there are two type of loops, while loops and for loops. While loops run as long as the condition evaluates to True."
      ]
    },
    {
      "cell_type": "code",
      "metadata": {
        "colab": {
          "base_uri": "https://localhost:8080/"
        },
        "id": "o2iCkW-TYiy9",
        "outputId": "267107f4-ea43-4c5b-9807-d44235113c4d"
      },
      "source": [
        "# Example, while loop\n",
        "\n",
        "x = 0.0\n",
        "while(x < 5.0):\n",
        "    print(x)\n",
        "    x += 1"
      ],
      "execution_count": null,
      "outputs": [
        {
          "output_type": "stream",
          "text": [
            "0.0\n",
            "1.0\n",
            "2.0\n",
            "3.0\n",
            "4.0\n"
          ],
          "name": "stdout"
        }
      ]
    },
    {
      "cell_type": "code",
      "metadata": {
        "colab": {
          "base_uri": "https://localhost:8080/"
        },
        "id": "kBo-9YYMY6FU",
        "outputId": "2806e9ae-dd7e-471a-b3b9-9ccc2098699e"
      },
      "source": [
        "# Example:  Prompt the user to insert a positive number and print out the result\n",
        "#           of subtracting that number from its square.\n",
        "\n",
        "a = 0.0\n",
        "while(a <= 0.0):\n",
        "    print(\"Insert a positive number.\")\n",
        "    a = float(input())\n",
        "    \n",
        "print(f\"Result is {a*a - a}.\")\n",
        "    "
      ],
      "execution_count": null,
      "outputs": [
        {
          "output_type": "stream",
          "text": [
            "Insert a positive number.\n"
          ],
          "name": "stdout"
        }
      ]
    },
    {
      "cell_type": "markdown",
      "metadata": {
        "id": "-jNN9oJwZJX9"
      },
      "source": [
        "- Task: Prompt the user to insert a negative number. Increment that number in steps of quarter of its absolute value until you reach the absolute value of that number. Print out each step."
      ]
    },
    {
      "cell_type": "code",
      "metadata": {
        "id": "4m9Q0v29ZK8d"
      },
      "source": [
        "# Solution\n",
        "\n"
      ],
      "execution_count": null,
      "outputs": []
    },
    {
      "cell_type": "markdown",
      "metadata": {
        "id": "Y3KNsvd4ZZKg"
      },
      "source": [
        "For loop is constructed in such a way that we have to explicitly specify a range of values for the loop to iterate\n",
        "over. In each iteration the loop variable contains a new value."
      ]
    },
    {
      "cell_type": "code",
      "metadata": {
        "colab": {
          "base_uri": "https://localhost:8080/"
        },
        "id": "L0th_efTZch_",
        "outputId": "ecfe5a55-0510-407c-b977-7c94f63e051e"
      },
      "source": [
        "# Example, for loop\n",
        "# same output as in Example, while loop\n",
        "\n",
        "x = [0.0, 1.0, 2.0, 3.0, 4.0]\n",
        "for i in x:\n",
        "    print(i)"
      ],
      "execution_count": null,
      "outputs": [
        {
          "output_type": "stream",
          "text": [
            "0.0\n",
            "1.0\n",
            "2.0\n",
            "3.0\n",
            "4.0\n"
          ],
          "name": "stdout"
        }
      ]
    },
    {
      "cell_type": "markdown",
      "metadata": {
        "id": "h_hG5-jKZnQB"
      },
      "source": [
        "In order to iterate over a range of integers, we use the range function.\n",
        "Function range(start, stop+1, step) can be used in a for loop to loop over the values start, start+step, ..., stop. Default values for start and step are 0 and 1, respectively."
      ]
    },
    {
      "cell_type": "code",
      "metadata": {
        "colab": {
          "base_uri": "https://localhost:8080/"
        },
        "id": "3Y4ZENLVZwOr",
        "outputId": "98337684-d801-4786-8328-32efd7e46fcd"
      },
      "source": [
        "# Example\n",
        "for i in range(5):\n",
        "    print(i)"
      ],
      "execution_count": null,
      "outputs": [
        {
          "output_type": "stream",
          "text": [
            "0\n",
            "1\n",
            "2\n",
            "3\n",
            "4\n"
          ],
          "name": "stdout"
        }
      ]
    },
    {
      "cell_type": "markdown",
      "metadata": {
        "id": "1KnRxBlMZ10g"
      },
      "source": [
        "Function enumerate allows us to iterate over index-value pairs of sequences(lists,tuples,...)."
      ]
    },
    {
      "cell_type": "code",
      "metadata": {
        "colab": {
          "base_uri": "https://localhost:8080/"
        },
        "id": "e53Nwk5MZ3DK",
        "outputId": "ec7db3af-1ace-4b62-fdaa-7aab938f53b1"
      },
      "source": [
        "# Example\n",
        "\n",
        "tuple_1 = ('orange', 'banana', 'apple', 'peach')\n",
        "\n",
        "for i, val in enumerate(tuple_1):\n",
        "    print(i, val)"
      ],
      "execution_count": null,
      "outputs": [
        {
          "output_type": "stream",
          "text": [
            "0 orange\n",
            "1 banana\n",
            "2 apple\n",
            "3 peach\n"
          ],
          "name": "stdout"
        }
      ]
    },
    {
      "cell_type": "code",
      "metadata": {
        "colab": {
          "base_uri": "https://localhost:8080/"
        },
        "id": "pYDrvH7AaDx5",
        "outputId": "d0f4c904-56bd-4311-e5ad-668f19f30fef"
      },
      "source": [
        "# Example, nested loops\n",
        "\n",
        "for i in [1, 2, 3]:\n",
        "    for j in ['I', 'II', 'III']:\n",
        "        print(i, j)"
      ],
      "execution_count": null,
      "outputs": [
        {
          "output_type": "stream",
          "text": [
            "1 I\n",
            "1 II\n",
            "1 III\n",
            "2 I\n",
            "2 II\n",
            "2 III\n",
            "3 I\n",
            "3 II\n",
            "3 III\n"
          ],
          "name": "stdout"
        }
      ]
    },
    {
      "cell_type": "markdown",
      "metadata": {
        "id": "-bIcve_HaPtd"
      },
      "source": [
        "If we want to exit the loop from inside, we use the break statement. If we want to skip the rest of the ongoing iteration, we use the continue statement."
      ]
    },
    {
      "cell_type": "code",
      "metadata": {
        "colab": {
          "base_uri": "https://localhost:8080/"
        },
        "id": "i-AINmyNaRMy",
        "outputId": "90b20b5a-a06d-417c-e272-c2d898be3b2b"
      },
      "source": [
        "# Example\n",
        "\n",
        "for i in range(4):\n",
        "    if (i == 2):\n",
        "        continue\n",
        "    for j in range(3):\n",
        "        if (j == 2):\n",
        "            break\n",
        "        print(i,j)"
      ],
      "execution_count": null,
      "outputs": [
        {
          "output_type": "stream",
          "text": [
            "0 0\n",
            "0 1\n",
            "1 0\n",
            "1 1\n",
            "3 0\n",
            "3 1\n"
          ],
          "name": "stdout"
        }
      ]
    },
    {
      "cell_type": "markdown",
      "metadata": {
        "id": "r-wbvKO-aaG8"
      },
      "source": [
        "- Task: Using for loops, calculate the following sum for a user specified integer n $$ S_{n} = \\sum_{i=0}^{n} \\sum_{j=0}^{i} j^{2}.  $$ Compare your result with the analytical result $$ S_{n} = \\frac{n (n+1)^{2} (n+2)}{12}. $$\n",
        "\n",
        "\n",
        "In the end of the cell you find some code to actually take the time it takes for the function to run. In Colab notebooks, you can use \"magic commands\" (those with a `%` before that) such as `%timeit`. This will not work in standard Python!\n"
      ]
    },
    {
      "cell_type": "code",
      "metadata": {
        "colab": {
          "base_uri": "https://localhost:8080/"
        },
        "id": "yfvB_6VkaKdB",
        "outputId": "422d3789-4494-4814-c68d-42ff5ff89a9b"
      },
      "source": [
        "# Solution\n",
        "\n",
        "n = 1000\n",
        "\n",
        "#Here goes your recurring function ('for' loop)\n",
        "sum_1 = 0  # initializing the sum to 0\n",
        "\n",
        "for i ...\n",
        "    \n",
        "        \n",
        "#Here goes the analytical soulution\n",
        "\n"
      ],
      "execution_count": null,
      "outputs": [
        {
          "output_type": "stream",
          "text": [
            "CPU times: user 3 µs, sys: 0 ns, total: 3 µs\n",
            "Wall time: 5.72 µs\n",
            "83667083500\n",
            "CPU times: user 9 µs, sys: 0 ns, total: 9 µs\n",
            "Wall time: 13.6 µs\n",
            "83667083500.0\n"
          ],
          "name": "stdout"
        }
      ]
    },
    {
      "cell_type": "markdown",
      "metadata": {
        "id": "gwp8XBWE7-Pg"
      },
      "source": [
        "## User-defined functions\n",
        "\n",
        "We already encountered some of the built-in functions. Python also allows us to define our own functions. User-defined functions can be seen as a tool to reuse a specific part of code, which gives structure to our programs and simplifies them. We define a function using the *def* keyword, which is followed by the name of the function. After the name of the function we specify arguments in parentheses as in the example below. Return statement specifies what value the functions returns. Functions without return statement always return None. When calling the function we refer to its name and pass to it desired arguments."
      ]
    },
    {
      "cell_type": "markdown",
      "metadata": {
        "id": "L8rIVzUZw0Xg"
      },
      "source": [
        "The function definition always follows the same guide lines:\n",
        "\n",
        "```python\n",
        "# The square brackets indicate optionality\n",
        "def function_name(input_value1):  # The colon `:` at the end is important!\n",
        "    # Notice the spaces at the beginning of this line\n",
        "    # This is the function body where all the magic happens\n",
        "    ...\n",
        "    # Once you got where you want to go, you can return your result using \n",
        "    # the `return` statement. The return statement is the last thing that\n",
        "    # will be called in the function body.\n",
        "\n",
        "    return output_value\n",
        "```"
      ]
    },
    {
      "cell_type": "code",
      "metadata": {
        "id": "aPTDZgJU737e"
      },
      "source": [
        "# Example\n",
        "\n",
        "def addition(a, b):\n",
        "    return a + b\n",
        "\n",
        "print(addition(1, 2))\n",
        "print(addition('1', '2'))\n",
        "print(addition(1, '2'))"
      ],
      "execution_count": null,
      "outputs": []
    },
    {
      "cell_type": "markdown",
      "metadata": {
        "id": "fTxwFU3s8G4S"
      },
      "source": [
        "We can also define functions that return several values which are stored in a tuple. Upon calling the function we can unpack that tuple as in the following example."
      ]
    },
    {
      "cell_type": "code",
      "metadata": {
        "id": "WllyQ7nD8Cis"
      },
      "source": [
        "# Example\n",
        "\n",
        "def mul_div(a, b):\n",
        "    return a/b, a*b\n",
        "\n",
        "x = mul_div(3, 4)\n",
        "print(x, type(x))\n",
        "\n",
        "x, y = mul_div(3, 4)\n",
        "print(x, y, type(x), type(y))"
      ],
      "execution_count": null,
      "outputs": []
    },
    {
      "cell_type": "markdown",
      "metadata": {
        "id": "Im-MiJLk8Kdj"
      },
      "source": [
        "There is a possibility to define functions which can accept an arbitrary number of arguments. We achieve that by puting an asterix in front of one identifier."
      ]
    },
    {
      "cell_type": "code",
      "metadata": {
        "id": "Kt3eYttC8NCt"
      },
      "source": [
        "# Example\n",
        "\n",
        "def add(*args):\n",
        "    s = 0.0\n",
        "    for i in args:\n",
        "        s += i\n",
        "    return s\n",
        "\n",
        "a = add(1, 2, 3, 4)\n",
        "print(a)"
      ],
      "execution_count": null,
      "outputs": []
    },
    {
      "cell_type": "markdown",
      "metadata": {
        "id": "FnEH8giI8RmS"
      },
      "source": [
        "- Task: Write a function that for a given n calculates the sum $S_{n}$ \n",
        "from one of the previous tasks. $$ S_{n} = \\sum_{i=0}^{n} \\sum_{j=0}^{i} j^{2}  $$"
      ]
    },
    {
      "cell_type": "code",
      "metadata": {
        "id": "312X34cK8Vtl"
      },
      "source": [
        "# Solution\n",
        "\n",
        "# Complete the function\n",
        "def Sn(n):\n",
        "\n",
        "    return\n",
        "\n",
        "# Write a similar function 'Sn_ana(n)' for the analytical solution\n",
        "\n",
        "\n",
        "# Compare the calcution speed using '%timeit' (colab magic word)\n",
        "%timeit Sn(?)\n",
        "%timeit Sn_ana(?) "
      ],
      "execution_count": null,
      "outputs": []
    },
    {
      "cell_type": "markdown",
      "metadata": {
        "id": "YdeOsnYe8YRt"
      },
      "source": [
        "- Task: Write a function that for a given nonnegative integer $n$ calculates its factorial $n! = n (n-1) \\cdots 1$."
      ]
    },
    {
      "cell_type": "code",
      "metadata": {
        "id": "LQM0AePX8cKH"
      },
      "source": [
        "#Solution\n",
        "\n"
      ],
      "execution_count": null,
      "outputs": []
    }
  ]
}
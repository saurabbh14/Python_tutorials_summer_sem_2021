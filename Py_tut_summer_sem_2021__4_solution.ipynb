{
  "nbformat": 4,
  "nbformat_minor": 0,
  "metadata": {
    "colab": {
      "name": "Py_tut_summer_sem-2021_#4_solution.ipynb",
      "provenance": [],
      "collapsed_sections": [],
      "toc_visible": true,
      "include_colab_link": true
    },
    "kernelspec": {
      "name": "python3",
      "display_name": "Python 3"
    }
  },
  "cells": [
    {
      "cell_type": "markdown",
      "metadata": {
        "id": "view-in-github",
        "colab_type": "text"
      },
      "source": [
        "<a href=\"https://colab.research.google.com/github/saurabbh14/Python_tutorials_summer_sem_2021/blob/main/Py_tut_summer_sem_2021__4_solution.ipynb\" target=\"_parent\"><img src=\"https://colab.research.google.com/assets/colab-badge.svg\" alt=\"Open In Colab\"/></a>"
      ]
    },
    {
      "cell_type": "markdown",
      "metadata": {
        "id": "5gSjn_hXkiE4"
      },
      "source": [
        "# Recap\n",
        "\n",
        "Let's go over the things you learnt so far.\n",
        "\n",
        "Here is a (not anymore so) short list of all the concepts you got to know already:\n",
        "\n",
        "- Math operations in Python (`+, -, *, /, //, %`)\n",
        "- Basic data types in Python (`bool`, `float`, `int`, `str`)\n",
        "- Calling functions (`print()`, `help()`)\n",
        "- Lists (`[1, 2, 3, 4]`)\n",
        "- Control flow : If-else statements (asking questions, making decisions)\n",
        "- Loops (`for` and `while`)\n",
        "- Defining functions\n",
        "- Modules (`numpy`, `matplotlib.pyplot`, local modules)\n",
        "- Velocity Verlet Algorithm(Molecular dynamics simulations) \n",
        "- Input and output\n",
        "- Visualizing spectra\n",
        "\n",
        "Did you encounter any problems, syntax errors or other issues in your home-based Python journey? \n",
        "\n",
        "\n"
      ]
    },
    {
      "cell_type": "markdown",
      "metadata": {
        "id": "9wvEFAfd-xf5"
      },
      "source": [
        "Let's start with some exercise!\n",
        "\n",
        "**Exercise I:** Simplify the code below to calculate the Boltzmann distribution for a many state system with a for loop. Can you write down the mathematical expression using alredy written code(or from your memory)?"
      ]
    },
    {
      "cell_type": "code",
      "metadata": {
        "colab": {
          "base_uri": "https://localhost:8080/"
        },
        "id": "SdBZYpyV_c1Z",
        "outputId": "eb9ec763-2245-4911-d701-e61acd848ce5"
      },
      "source": [
        "# import modules\n",
        "import numpy as np\n",
        "\n",
        "# set the constant\n",
        "k_B = 8.6173303e-5 # eV/K\n",
        "\n",
        "# set the temperature\n",
        "T = 300 # K\n",
        "\n",
        "# set the state energies\n",
        "energies = [0., 0.01, 0.02, 0.03] # energies in eV\n",
        "n_states = len(energies) # the len-function returns the number of items in a list, in our case it is the number of states\n",
        "\n",
        "### TODO: MODIFY THE CODE BELOW ###\n",
        "list1 = [np.exp(-val/(k_B*T)) for val in energies]\n",
        "\n",
        "print(list1)"
      ],
      "execution_count": null,
      "outputs": [
        {
          "output_type": "stream",
          "text": [
            "[1.0, 0.6792151057804271, 0.4613331599203168, 0.31334445101529673]\n"
          ],
          "name": "stdout"
        }
      ]
    },
    {
      "cell_type": "code",
      "metadata": {
        "colab": {
          "base_uri": "https://localhost:8080/",
          "height": 238
        },
        "id": "Z-FgdUlMa__-",
        "outputId": "f1e1bda8-7ce5-42ce-a3b5-1744e727ae64"
      },
      "source": [
        "## short version of above code\n",
        "import numpy as np\n",
        "\n",
        "# set the constant\n",
        "k_B = 8.6173303e-5 # eV/K\n",
        "\n",
        "# set the temperature\n",
        "T = 300 # K\n",
        "\n",
        "# set the state energies\n",
        "energies = [0., 0.01, 0.02, 0.03] # energies in eV\n",
        "n_states = len(energies) # the len-function returns the number of items in a list, in our case it is the number of states\n",
        "\n",
        "### TODO: MODIFY THE CODE BELOW ###\n",
        "\n",
        "boltz_list = [ np.exp(-energies[i]/(k_B*T)) for i in range(n_states)]\n",
        "\n",
        "probabilities = [np.exp(-energies[i]/(k_B*T)) / sum(boltz_list) for i in range(n_states)]\n",
        "\n",
        "for i,prob in enumerate(probabilities):\n",
        "  print(f\"Probability for state 0: {probabilities[i:prob]}\")\n",
        "\n",
        "print(f\"The sum of all probabilities is: {sum(probabilities)}\")"
      ],
      "execution_count": null,
      "outputs": [
        {
          "output_type": "error",
          "ename": "TypeError",
          "evalue": "ignored",
          "traceback": [
            "\u001b[0;31m---------------------------------------------------------------------------\u001b[0m",
            "\u001b[0;31mTypeError\u001b[0m                                 Traceback (most recent call last)",
            "\u001b[0;32m<ipython-input-44-d9f65e183da7>\u001b[0m in \u001b[0;36m<module>\u001b[0;34m()\u001b[0m\n\u001b[1;32m     19\u001b[0m \u001b[0;34m\u001b[0m\u001b[0m\n\u001b[1;32m     20\u001b[0m \u001b[0;32mfor\u001b[0m \u001b[0mi\u001b[0m\u001b[0;34m,\u001b[0m\u001b[0mprob\u001b[0m \u001b[0;32min\u001b[0m \u001b[0menumerate\u001b[0m\u001b[0;34m(\u001b[0m\u001b[0mprobabilities\u001b[0m\u001b[0;34m)\u001b[0m\u001b[0;34m:\u001b[0m\u001b[0;34m\u001b[0m\u001b[0;34m\u001b[0m\u001b[0m\n\u001b[0;32m---> 21\u001b[0;31m   \u001b[0mprint\u001b[0m\u001b[0;34m(\u001b[0m\u001b[0;34mf\"Probability for state 0: {probabilities[i:prob]}\"\u001b[0m\u001b[0;34m)\u001b[0m\u001b[0;34m\u001b[0m\u001b[0;34m\u001b[0m\u001b[0m\n\u001b[0m\u001b[1;32m     22\u001b[0m \u001b[0;34m\u001b[0m\u001b[0m\n\u001b[1;32m     23\u001b[0m \u001b[0mprint\u001b[0m\u001b[0;34m(\u001b[0m\u001b[0;34mf\"The sum of all probabilities is: {sum(probabilities)}\"\u001b[0m\u001b[0;34m)\u001b[0m\u001b[0;34m\u001b[0m\u001b[0;34m\u001b[0m\u001b[0m\n",
            "\u001b[0;31mTypeError\u001b[0m: slice indices must be integers or None or have an __index__ method"
          ]
        }
      ]
    },
    {
      "cell_type": "markdown",
      "metadata": {
        "id": "HvIFuLSTmwqW"
      },
      "source": [
        "**Exercise II:** Define a function for the above code."
      ]
    },
    {
      "cell_type": "code",
      "metadata": {
        "id": "Hnm57DObD_5V"
      },
      "source": [
        "### TODO: DEFINE YOUR FUNCTION HERE ###\n",
        "\n",
        "\n",
        "\n",
        "# set the temperature\n",
        "T = 300 # K\n",
        "# set the state energies\n",
        "energies = [0., 0.01, 0.02, 0.03] # energies in eV\n",
        "\n",
        "probs = Boltzmann_distribution(energies, T)\n",
        "print(probs)\n",
        "print(sum(probs))"
      ],
      "execution_count": null,
      "outputs": []
    },
    {
      "cell_type": "markdown",
      "metadata": {
        "id": "nHhlbr_PDOga"
      },
      "source": [
        "## Exercise: Marcus Theory"
      ]
    },
    {
      "cell_type": "markdown",
      "metadata": {
        "id": "Kow6IhL1FZDN"
      },
      "source": [
        "### Introduction\n",
        "\n",
        "Marcus theory, developed by Rudolph A. Marcus in 1956, provides a simple way to calculate the dynamics of charge transfer reactions from experimentally accesible parameters. The derivation is beyond the scope of this exercise. You can read about it e.g. on wikipedia:\n",
        "\n",
        "https://en.wikipedia.org/wiki/Marcus_theory"
      ]
    },
    {
      "cell_type": "markdown",
      "metadata": {
        "id": "bUh6x2ZFIWMV"
      },
      "source": [
        "![Parameters_of_the_Marcus_Equation.jpeg](data:image/jpeg;base64,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)"
      ]
    },
    {
      "cell_type": "markdown",
      "metadata": {
        "id": "QlNxJBLZIbA_"
      },
      "source": [
        "Marcus theory allows to calculate the rate constant for CT from a donor (D) to an acceptor (A) as:\n",
        "\n",
        "$$ k_{D \\rightarrow A} = \\frac{2 \\pi}{\\hbar} | H_{AB} |^2 \\frac{1}{\\sqrt{4 \\pi \\lambda k_B T}} e^{ - \\frac{ (\\lambda + \\Delta G)^2}{4 \\lambda k_B T}}$$\n",
        "\n",
        "Here, $\\hbar$ is the reduced Planck constant, $H_{AB}$ is the coupling constant between D and A, $\\lambda$ is the reorganization energy, $k_B$ is the Boltzmann constant, $T$ is the temperature (in Kelvin) and $\\Delta G$ is the driving force of the reaction. The driving force is calculated as:\n",
        "\n",
        "$$ \\Delta G = E_{\\mathrm{min}}(A) - E_{\\mathrm{min}}(D) $$\n",
        "\n",
        "The rate constant is only calculated like this for downhill CT, i.e. for a transition from a high energy state, to a low energy state, where $\\Delta G$ is negative. For the reversed case, when $\\Delta G$ is positive, the rate constant can be derived from detailed balance (Boltzmann distribution) and the rate constant for the back reaction as follows:\n",
        "\n",
        "$$ k_{A \\rightarrow D} = k_{D \\rightarrow A} e^{ \\frac{\\Delta G_{DA}}{k_B T}} $$\n",
        "\n"
      ]
    },
    {
      "cell_type": "markdown",
      "metadata": {
        "id": "breeQiZnDcft"
      },
      "source": [
        "### Calculate a rate constant\n",
        "\n",
        "**Define a function that calculates the rate constant from Marcus theory, given $\\lambda$, $\\Delta G$, $H_{AB}$ and $T$. Make sure to correctly account for the different cases for $\\Delta G < 0$ and $\\Delta G \\geq 0$!**\n",
        "\n",
        "*The keyword `lambda` is predefined in python and should not be used as a variable name. Better use \"l\" or \"lmbda\"!*"
      ]
    },
    {
      "cell_type": "code",
      "metadata": {
        "id": "jc6gMN0BLlA9"
      },
      "source": [
        "import numpy as np\n",
        "\n",
        "### define some natural constants\n",
        "k_B = 8.6173303e-5 # eV/K\n",
        "h = 4.135667662e-15 # eV * s\n",
        "hbar = h / ( 2.*np.pi) # eV * s\n",
        "\n",
        "\n",
        "def rate_constant(lmbda, G, H_ab, T):\n",
        "  \"\"\"Calculates Marcus Theory rate constant.\n",
        "\n",
        "All input values in eV or K.\"\"\"\n",
        "  ### TODO: INSERT YOUR CODE HERE ###\n",
        "  if (G < 0):\n",
        "    k= 2 * np.pi * H_ab**2 *np.exp(-((lmbda+G)**2) /(4*lmbda*k_B*T)) \\\n",
        "       /(hbar *np.sqrt(4 *np.pi *lmbda *k_B *T))     \n",
        "  else:\n",
        "    G_back=-G\n",
        "    k_back= 2 * np.pi * H_ab**2 *np.exp(-((lmbda+G_back)**2) /(4*lmbda*k_B*T)) \\\n",
        "       /(hbar *np.sqrt(4 *np.pi *lmbda *k_B *T))   \n",
        "    k= k_back *np.exp(G_back/(k_B *T))  \n",
        "  return k # in s^(-1)"
      ],
      "execution_count": null,
      "outputs": []
    },
    {
      "cell_type": "markdown",
      "metadata": {
        "id": "_77c4abHNP9U"
      },
      "source": [
        "Now we can use this function to calculate rate constants. We use the parameters of a system investigated by Koch et al. (J. Phys. Chem. C 2017, 121, 30, 16066–16078; https://pubs.acs.org/doi/10.1021/acs.jpcc.7b02812).\n",
        "\n",
        "**Does your result correspond to the rate constant $k_{i,\\mathrm{ET}}$ of the system T(BL1)-T(CS1) in Table 2 of Koch et al.?**"
      ]
    },
    {
      "cell_type": "code",
      "metadata": {
        "id": "-OAnEyQaNXLw",
        "colab": {
          "base_uri": "https://localhost:8080/"
        },
        "outputId": "8779ab21-7c6a-400b-d0a9-dfd2d0dcae8e"
      },
      "source": [
        "### define system parameters ###\n",
        "dG = -0.3258 # eV\n",
        "H_AB = 0.09035 # eV\n",
        "l = 0.8442 # eV\n",
        "T = 295 # K\n",
        "\n",
        "print(f\"The rate constant is {rate_constant(l, dG, H_AB, T) / 1e12: 5.2f} ps^(-1)\")"
      ],
      "execution_count": null,
      "outputs": [
        {
          "output_type": "stream",
          "text": [
            "The rate constant is  6.56 ps^(-1)\n"
          ],
          "name": "stdout"
        }
      ]
    },
    {
      "cell_type": "markdown",
      "metadata": {
        "id": "Zr05XqpiOIPN"
      },
      "source": [
        "### Calculate CT dynamics\n"
      ]
    },
    {
      "cell_type": "markdown",
      "metadata": {
        "id": "Ssy5jek285J_"
      },
      "source": [
        "For a simple chemical reaction, where D $\\overset{k_{DA}}\\rightarrow$ A, the rate eqation is given as,\n",
        "\\begin{eqnarray}\n",
        "  \\frac{dD}{dt}=\\frac{dA}{dt}=-k_{DA}D=k_{AD}A\n",
        "\\end{eqnarray}\n",
        "The general form of above equation involving $m$ number of species reads,\n",
        "\\begin{eqnarray}\n",
        "  \\frac{da_{i}}{dt}=-\\sum_{j}^{m}k_{ij}a_{i}+\\sum_{j}^{m}k_{ij}a_{j}(i=1,2,...,m;i\\ne j)\n",
        "\\end{eqnarray}\n",
        "where $a_{i}$ is the concentration of $i$th species and $k_{ij}$ is the rate constant for trasitions between $i$th species to $j$th. One can simply write above equation in matrix form as follows\n",
        "\\begin{eqnarray}\n",
        "  \\frac{d\\textbf{a}}{dt}=\\textbf{ka}\n",
        "\\end{eqnarray}\n",
        "For our simple Doner-Acceptor system this eqation turns into,\n",
        "\\begin{eqnarray}\n",
        "  \\begin{bmatrix}\n",
        "   \\frac{dD}{dt} \\\\\n",
        "   \\frac{dA}{dt}\n",
        "  \\end{bmatrix}\n",
        "  =\\begin{bmatrix}\n",
        "  -k_{DA} & k_{DA} \\\\\n",
        "  k_{AD}  & -k_{AD}\n",
        "  \\end{bmatrix}\n",
        "  \\begin{bmatrix}\n",
        "  D \\\\ A\n",
        "  \\end{bmatrix}\n",
        "\\end{eqnarray}\n",
        "**Short question:** How would above matrix would look like for a system containg 3 species?(Hint: the rate matrix will have $3\\times 3$ form)\n",
        "\n",
        "#### Rate constant matrix\n",
        "\n",
        "Let's prepare a matrix of rate constants for a given Hamiltonian with energies and couplings of a many state system.\n",
        "The functions require, that the above implementation of the `rate_constant` function works correctly!\n"
      ]
    },
    {
      "cell_type": "code",
      "metadata": {
        "id": "RZ5ozII_82In"
      },
      "source": [
        "def prepare_rate_constant_matrix(H, l, T):\n",
        "  \"\"\"Prepares matrix of rate constants.\n",
        "\n",
        "H ... Hamiltonian matrix with state energies and couplings (eV)\n",
        "l ... Array of reorganization energies (eV) for every state\n",
        "T ... Temperature (K)\n",
        "\n",
        "Returns:\n",
        "c_matrix ... matrix with rate constants (ps^-1)\"\"\"\n",
        "\n",
        "  nstates = H.shape[0]\n",
        "  E = [ H[i][i] for i in range(nstates) ]\n",
        "\n",
        "  # define paths (from, to) for which rate constants are calculated via Marcus theory.\n",
        "  # calculate transfer from higher to lower state via Marcus theory. Back reaction via detailed balance\n",
        "  # generate paths automatically\n",
        "  paths = []\n",
        "  for i in range(nstates-1):\n",
        "    for j in range(i+1,nstates):\n",
        "      if E[i] > E[j]:\n",
        "        paths.append( (i,j) )\n",
        "      else:\n",
        "        paths.append( (j,i) )\n",
        "  \n",
        "  print(\"Paths matrix:\")\n",
        "  print(paths)\n",
        "  # initialize rate constant matrix\n",
        "  c_matrix = np.zeros((nstates,nstates), dtype=np.float64)\n",
        "  for p in paths:\n",
        "    c_matrix[p[0]][p[1]] = rate_constant(l[p[1]], E[p[1]]-E[p[0]], H[p[0]][p[1]], T) / 1e12 # ps-1\n",
        "    c_matrix[p[1]][p[0]] = c_matrix[p[0]][p[1]] * np.exp( (E[p[1]]-E[p[0]]) / (k_B*T) ) # detailed balance\n",
        "  \n",
        "  print(c_matrix)\n",
        "  # set diagonal elements of rate constant matrix for usage with analytic population propagation\n",
        "  for i in range(nstates):\n",
        "    for j in range(nstates):\n",
        "      if j != i:\n",
        "        c_matrix[i][i] -= c_matrix[i][j]\n",
        "\n",
        "  return c_matrix"
      ],
      "execution_count": null,
      "outputs": []
    },
    {
      "cell_type": "code",
      "metadata": {
        "id": "1dJokWt2kLQl"
      },
      "source": [
        "# the Hamiltonian matrix is a 2D array that contains energies on the diagonal and couplings on the off-diagonal\n",
        "# driving force deltaG and couplings are obtained from this matrix\n",
        "# all values in eV\n",
        "H = np.array( [[ 0., 0.09035],\n",
        "               [0.09035, -0.3258] ])\n",
        "# the l array contains reorganization energies (eV) for every state\n",
        "l = np.array( [0.8442, 0.8442] )\n",
        "T = 295 # K\n",
        "\n",
        "# calculate the rate constant matrix\n",
        "c_matrix = prepare_rate_constant_matrix(H, l, T)\n",
        "print(\"Matrix of rate constants (ps^(-1)):\")\n",
        "print(c_matrix)\n"
      ],
      "execution_count": null,
      "outputs": []
    },
    {
      "cell_type": "markdown",
      "metadata": {
        "id": "DvgCMKrqkfSx"
      },
      "source": [
        "#### Population Dynamics \n",
        "\n",
        "Above matrix of rate constants can then be used to calculate time-dependent populations of states. Since the implementation involves a few more advanced features of the numpy module, the code is presented to you tested and fully functional. The population dynamics code is based on Markov chain Algorithm and is implemented using following equations,\n",
        "\\begin{eqnarray}\n",
        "\\textbf{k}&=&\\textbf{P}^{-1}\\Lambda \\textbf{P} \\\\\n",
        "\\textbf{a}(t)&=&e^{\\textbf{K}t}\\textbf{a}(0) \\Rightarrow\n",
        "\\textbf{a}(t)&=&\\textbf{P}^{-1}e^{ \\Lambda t}\\textbf{P a}(0)\n",
        "\\end{eqnarray}\n",
        "i.e., if we start with some population at time $t=0$ $(a(0))$, depending on the rate constants for different transitions involving the state in question, we can predict the population of that state over at time $t$ $(a(t))$. \n",
        "\n",
        " For further reading please refer to https://www.aidic.it/cet/17/59/098.pdf"
      ]
    },
    {
      "cell_type": "code",
      "metadata": {
        "id": "sIswi1JhN444"
      },
      "source": [
        "def population_analytic(c, init_pop, t_step, t_max):\n",
        "  \"\"\"Analytic solution of Markov chain\n",
        "\n",
        "c        ... rate constant matrix with diagonal elements c_ii = sum(over j != i) -c_ij\n",
        "init_pop ... initial population vector\n",
        "t_step   ... time step for writing output\n",
        "t_max    ... maximum time\n",
        "\n",
        "Returns:\n",
        "t        ... array of time steps\n",
        "pop      ... array of populations (1 time step per row)\"\"\"\n",
        "\n",
        "  # diagonalize the c matrix, yielding Eigenvalues e and Eigenvectors v\n",
        "  e, v = np.linalg.eig(c)\n",
        "  #print(\"eigenvalues and eigenvectors of c-matrix\")\n",
        "  #print(e, v)\n",
        "  # invert the matrix of Eigenvectors\n",
        "  v_inv = np.linalg.inv(v)\n",
        "  #print(\"inverse of v-matrix\")\n",
        "  #print(v_inv)\n",
        "  # obtaine the number of states\n",
        "  nstates = len(e)\n",
        "  \n",
        "  t = 0. # initial time is zero\n",
        "\n",
        "  t_list = [] # list to save time values\n",
        "  pop_list = [] # list to save populations for every time step\n",
        "\n",
        "  while t <=t_max: # repeat as long as condition is true\n",
        "    # propagate populations from time zero to t in one step\n",
        "    # therefore, repeat this for every time step\n",
        "    exp_Qt = np.zeros((nstates,nstates), dtype=np.float64)\n",
        "    for i in range(nstates):\n",
        "      A = np.zeros((nstates,nstates), dtype=np.float64)\n",
        "      A[i][i] = 1.\n",
        "\n",
        "      exp_Qt += np.exp(e[i]*t) * np.dot(v, np.dot(A, v_inv))\n",
        "\n",
        "    p_t = np.dot(init_pop, exp_Qt)\n",
        "    # save result in lists\n",
        "    t_list.append(t)\n",
        "    pop_list.append(p_t)\n",
        "\n",
        "    # update the time\n",
        "    t += t_step\n",
        "\n",
        "  return np.array( t_list ), np.array( pop_list )\n",
        "\n",
        "\n"
      ],
      "execution_count": null,
      "outputs": []
    },
    {
      "cell_type": "markdown",
      "metadata": {
        "id": "AO0j_KaHOGj4"
      },
      "source": [
        "Now let's feed some data to the functions."
      ]
    },
    {
      "cell_type": "code",
      "metadata": {
        "colab": {
          "base_uri": "https://localhost:8080/"
        },
        "id": "ETXkZCsLjvgN",
        "outputId": "d0eb24e2-b9f9-47dd-ec70-1e310bddfd55"
      },
      "source": [
        "\n",
        "# define initial populations of states\n",
        "init_pop = np.array( [1., 0.] ) # everything in high energy donor state\n",
        "\n",
        "# propagate dynamics\n",
        "t, pop = population_analytic(c_matrix, init_pop, 0.01, 1.)\n",
        "print(\"Population dynamics:\")\n",
        "print(pop)"
      ],
      "execution_count": null,
      "outputs": [
        {
          "output_type": "stream",
          "text": [
            "Population dynamics:\n",
            "[[1.         0.        ]\n",
            " [0.93654329 0.06345671]\n",
            " [0.87711334 0.12288666]\n",
            " [0.82145464 0.17854536]\n",
            " [0.76932786 0.23067214]\n",
            " [0.72050888 0.27949112]\n",
            " [0.67478781 0.32521219]\n",
            " [0.63196805 0.36803195]\n",
            " [0.5918655  0.4081345 ]\n",
            " [0.55430773 0.44569227]\n",
            " [0.51913326 0.48086674]\n",
            " [0.48619085 0.51380915]\n",
            " [0.45533887 0.54466113]\n",
            " [0.42644466 0.57355534]\n",
            " [0.39938398 0.60061602]\n",
            " [0.37404049 0.62595951]\n",
            " [0.35030522 0.64969478]\n",
            " [0.32807611 0.67192389]\n",
            " [0.3072576  0.6927424 ]\n",
            " [0.28776016 0.71223984]\n",
            " [0.26949997 0.73050003]\n",
            " [0.25239851 0.74760149]\n",
            " [0.23638226 0.76361774]\n",
            " [0.22138235 0.77861765]\n",
            " [0.20733429 0.79266571]\n",
            " [0.19417768 0.80582232]\n",
            " [0.18185594 0.81814406]\n",
            " [0.1703161  0.8296839 ]\n",
            " [0.15950854 0.84049146]\n",
            " [0.1493868  0.8506132 ]\n",
            " [0.13990735 0.86009265]\n",
            " [0.13102944 0.86897056]\n",
            " [0.12271489 0.87728511]\n",
            " [0.11492796 0.88507204]\n",
            " [0.10763516 0.89236484]\n",
            " [0.10080514 0.89919486]\n",
            " [0.09440854 0.90559146]\n",
            " [0.08841784 0.91158216]\n",
            " [0.08280729 0.91719271]\n",
            " [0.07755277 0.92244723]\n",
            " [0.07263168 0.92736832]\n",
            " [0.06802288 0.93197712]\n",
            " [0.06370653 0.93629347]\n",
            " [0.05966408 0.94033592]\n",
            " [0.05587816 0.94412184]\n",
            " [0.05233248 0.94766752]\n",
            " [0.04901179 0.95098821]\n",
            " [0.04590183 0.95409817]\n",
            " [0.04298922 0.95701078]\n",
            " [0.04026143 0.95973857]\n",
            " [0.03770673 0.96229327]\n",
            " [0.03531415 0.96468585]\n",
            " [0.0330734  0.9669266 ]\n",
            " [0.03097484 0.96902516]\n",
            " [0.02900944 0.97099056]\n",
            " [0.02716877 0.97283123]\n",
            " [0.02544489 0.97455511]\n",
            " [0.02383041 0.97616959]\n",
            " [0.02231838 0.97768162]\n",
            " [0.0209023  0.9790977 ]\n",
            " [0.01957608 0.98042392]\n",
            " [0.01833401 0.98166599]\n",
            " [0.01717077 0.98282923]\n",
            " [0.01608133 0.98391867]\n",
            " [0.01506104 0.98493896]\n",
            " [0.01410548 0.98589452]\n",
            " [0.01321056 0.98678944]\n",
            " [0.01237244 0.98762756]\n",
            " [0.01158749 0.98841251]\n",
            " [0.01085236 0.98914764]\n",
            " [0.01016387 0.98983613]\n",
            " [0.00951908 0.99048092]\n",
            " [0.0089152  0.9910848 ]\n",
            " [0.00834964 0.99165036]\n",
            " [0.00781997 0.99218003]\n",
            " [0.00732391 0.99267609]\n",
            " [0.00685933 0.99314067]\n",
            " [0.00642423 0.99357577]\n",
            " [0.00601674 0.99398326]\n",
            " [0.00563511 0.99436489]\n",
            " [0.0052777  0.9947223 ]\n",
            " [0.00494296 0.99505704]\n",
            " [0.00462947 0.99537053]\n",
            " [0.00433587 0.99566413]\n",
            " [0.0040609  0.9959391 ]\n",
            " [0.00380338 0.99619662]\n",
            " [0.0035622  0.9964378 ]\n",
            " [0.00333633 0.99666367]\n",
            " [0.00312479 0.99687521]\n",
            " [0.00292667 0.99707333]\n",
            " [0.00274113 0.99725887]\n",
            " [0.00256736 0.99743264]\n",
            " [0.00240461 0.99759539]\n",
            " [0.0022522  0.9977478 ]\n",
            " [0.00210945 0.99789055]\n",
            " [0.00197576 0.99802424]\n",
            " [0.00185056 0.99814944]\n",
            " [0.0017333  0.9982667 ]\n",
            " [0.00162348 0.99837652]\n",
            " [0.00152064 0.99847936]]\n"
          ],
          "name": "stdout"
        }
      ]
    },
    {
      "cell_type": "markdown",
      "metadata": {
        "id": "weGmfbq5kqzu"
      },
      "source": [
        "### Visualize the results\n",
        "\n",
        "Notice, that the previously calculated rate constant appears in the rate constant matrix. Let's visualize the data."
      ]
    },
    {
      "cell_type": "code",
      "metadata": {
        "colab": {
          "base_uri": "https://localhost:8080/",
          "height": 295
        },
        "id": "S-IeT9LGmAlz",
        "outputId": "3b1e20cd-36ac-489f-ed70-91be5a1b068f"
      },
      "source": [
        "import matplotlib.pyplot as plt\n",
        "\n",
        "plt.plot(t, pop)\n",
        "plt.title(\"CT Population Dynamics\")\n",
        "plt.xlabel(\"t (ps)\")\n",
        "plt.ylabel(\"population\")\n",
        "plt.legend([\"Donor\",\"Acceptor\"])\n",
        "plt.grid(True)\n",
        "plt.show()"
      ],
      "execution_count": null,
      "outputs": [
        {
          "output_type": "display_data",
          "data": {
            "image/png": "[encoded data removed]",
            "text/plain": [
              "<Figure size 432x288 with 1 Axes>"
            ]
          },
          "metadata": {
            "tags": [],
            "needs_background": "light"
          }
        }
      ]
    },
    {
      "cell_type": "markdown",
      "metadata": {
        "id": "UscdgVdFGsDb"
      },
      "source": [
        "To get a feeling how the system parameters affect the dynamics, modify the energies, couplings and temperature and run the simulation again.\n",
        "\n",
        "**Which parameters yield the fastest transfer?**"
      ]
    }
  ]
}